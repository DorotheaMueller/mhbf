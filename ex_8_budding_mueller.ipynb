{
 "cells": [
  {
   "cell_type": "markdown",
   "metadata": {},
   "source": [
    "# Exercise 7\n",
    "## Céline Budding && Dorothea Müller "
   ]
  },
  {
   "cell_type": "code",
   "execution_count": 1,
   "metadata": {},
   "outputs": [],
   "source": [
    "import numpy as np\n",
    "import matplotlib as mlp\n",
    "import matplotlib.pyplot as plt\n",
    "\n",
    "%matplotlib inline"
   ]
  },
  {
   "cell_type": "markdown",
   "metadata": {},
   "source": [
    "## 1. The 10-armed bandit"
   ]
  },
  {
   "cell_type": "markdown",
   "metadata": {},
   "source": [
    "### 1."
   ]
  },
  {
   "cell_type": "code",
   "execution_count": 17,
   "metadata": {},
   "outputs": [
    {
     "data": {
      "text/plain": [
       "array([0.56492236, 0.05582511, 0.55027567, 0.23218379, 0.71429456,\n",
       "       0.81072618, 0.03613416, 0.61580318, 0.26037362, 0.09058056])"
      ]
     },
     "execution_count": 17,
     "metadata": {},
     "output_type": "execute_result"
    }
   ],
   "source": [
    "reward_prob = np.random.uniform(0, 0.9, 10)\n",
    "reward_prob"
   ]
  },
  {
   "cell_type": "markdown",
   "metadata": {},
   "source": [
    "### 2."
   ]
  },
  {
   "cell_type": "code",
   "execution_count": null,
   "metadata": {},
   "outputs": [],
   "source": [
    "def generate_reward(reward_prob, lever_numbers):\n",
    "    rewards = np.zeros(len(lever_numbers))\n",
    "    for i, lever_number in enumerate(lever_numbers):\n",
    "        if np.random.random() > reward_prob[lever_number]:\n",
    "            rewards[i] = 0\n",
    "        else:\n",
    "            rewards[i] = 1\n",
    "    return rewards"
   ]
  },
  {
   "cell_type": "code",
   "execution_count": 25,
   "metadata": {},
   "outputs": [],
   "source": [
    "# Testing.\n",
    "n = 10000\n",
    "received_rewards = np.zeros(len(rewards))\n",
    "for i in range(n):\n",
    "    received_rewards += generate_reward(reward_prob, np.arange(0, 10))\n",
    "received_rewards/=n"
   ]
  },
  {
   "cell_type": "code",
   "execution_count": 26,
   "metadata": {},
   "outputs": [
    {
     "data": {
      "text/plain": [
       "array([0.5662, 0.0561, 0.5476, 0.2338, 0.7101, 0.8116, 0.0343, 0.6282,\n",
       "       0.2625, 0.0967])"
      ]
     },
     "execution_count": 26,
     "metadata": {},
     "output_type": "execute_result"
    }
   ],
   "source": [
    "received_rewards"
   ]
  },
  {
   "cell_type": "markdown",
   "metadata": {},
   "source": [
    "### 3."
   ]
  },
  {
   "cell_type": "code",
   "execution_count": 31,
   "metadata": {},
   "outputs": [],
   "source": [
    "def update_q(reward_prob, q, eta = 0.01):\n",
    "    delta_q = eta * (generate_reward(reward_prob, np.arange(0, len(reward_prob))) - q)\n",
    "    q = q + delta_q\n",
    "    return q"
   ]
  },
  {
   "cell_type": "code",
   "execution_count": 32,
   "metadata": {},
   "outputs": [
    {
     "data": {
      "text/plain": [
       "array([0., 0., 0., 0., 0., 0., 0., 0., 0., 0.])"
      ]
     },
     "execution_count": 32,
     "metadata": {},
     "output_type": "execute_result"
    }
   ],
   "source": [
    "q = np.zeros(len(reward_prob))\n",
    "q"
   ]
  },
  {
   "cell_type": "code",
   "execution_count": 34,
   "metadata": {},
   "outputs": [
    {
     "data": {
      "text/plain": [
       "array([0.56797845, 0.06620409, 0.57264853, 0.21100882, 0.70606674,\n",
       "       0.81270838, 0.02610116, 0.63362152, 0.26324274, 0.06322502])"
      ]
     },
     "execution_count": 34,
     "metadata": {},
     "output_type": "execute_result"
    }
   ],
   "source": [
    "for i in range(n):\n",
    "    q = update_q(reward_prob, q)\n",
    "q"
   ]
  },
  {
   "cell_type": "markdown",
   "metadata": {},
   "source": [
    "### 4."
   ]
  },
  {
   "cell_type": "code",
   "execution_count": 36,
   "metadata": {},
   "outputs": [],
   "source": [
    "def eps_greedy(q, eps):\n",
    "    \"\"\"Return lever(s) to be pressed, q value of chosen lever, largest q value.\"\"\"\n",
    "    if np.random.random() < 1-eps:\n",
    "        pos = np.argmax(q)\n",
    "        val = q[pos]\n",
    "        largest_val = val\n",
    "    else:\n",
    "        pos = np.random.randint(0, len(q))\n",
    "        val = q[pos]\n",
    "        largest_val = q[np.argmax(q)]\n",
    "        \n",
    "    return [pos, val, largest_val]"
   ]
  },
  {
   "cell_type": "markdown",
   "metadata": {},
   "source": [
    "### 5."
   ]
  },
  {
   "cell_type": "code",
   "execution_count": null,
   "metadata": {},
   "outputs": [],
   "source": []
  }
 ],
 "metadata": {
  "kernelspec": {
   "display_name": "Python 3",
   "language": "python",
   "name": "python3"
  },
  "language_info": {
   "codemirror_mode": {
    "name": "ipython",
    "version": 3
   },
   "file_extension": ".py",
   "mimetype": "text/x-python",
   "name": "python",
   "nbconvert_exporter": "python",
   "pygments_lexer": "ipython3",
   "version": "3.6.9"
  }
 },
 "nbformat": 4,
 "nbformat_minor": 2
}
