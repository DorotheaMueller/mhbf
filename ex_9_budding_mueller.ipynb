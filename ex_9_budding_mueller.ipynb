{
 "cells": [
  {
   "cell_type": "markdown",
   "metadata": {},
   "source": [
    "# Exercise 8 Reinforcement Learning I \n",
    "## Céline Budding && Dorothea Müller "
   ]
  },
  {
   "cell_type": "code",
   "execution_count": 1,
   "metadata": {},
   "outputs": [],
   "source": [
    "import numpy as np\n",
    "import matplotlib.pyplot as plt\n",
    "\n",
    "%matplotlib inline"
   ]
  },
  {
   "cell_type": "markdown",
   "metadata": {},
   "source": [
    "## 1. Good vs. bad Döner"
   ]
  },
  {
   "cell_type": "code",
   "execution_count": 2,
   "metadata": {},
   "outputs": [
    {
     "data": {
      "text/plain": [
       "array([   0, 1000,  -10,  -10,  -10,  -10,  -10,  -10,  -10,  -10,  -10,\n",
       "        -10,  -10,  -10,  -10,  -10,  -10,  -10,  -10,  -10,  -10,  -10,\n",
       "        -10,  -10,  -10,  -10,  -10,  -10,  -10,  -10,  -10,  -10,  -10,\n",
       "        -10,  -10,  -10,  -10,  -10,  -10,  -10,  -10,  -10,  -10,  -10,\n",
       "        -10,  -10,  -10,  -10,  -10,  -10,  100,    0])"
      ]
     },
     "execution_count": 2,
     "metadata": {},
     "output_type": "execute_result"
    }
   ],
   "source": [
    "n_states = 50\n",
    "good_doener_val = 1000\n",
    "bad_doener_val = 100\n",
    "\n",
    "rewards = np.repeat(-10, n_states + 2)\n",
    "rewards[0] = 0\n",
    "rewards[1] = good_doener_val\n",
    "rewards[-2] = bad_doener_val\n",
    "rewards[-1] = 0\n",
    "rewards"
   ]
  },
  {
   "cell_type": "code",
   "execution_count": 3,
   "metadata": {},
   "outputs": [
    {
     "data": {
      "text/plain": [
       "array([[0.00000000e+00, 0.00000000e+00],\n",
       "       [8.24616332e-01, 5.49956056e-01],\n",
       "       [8.55717999e-01, 5.45804379e-01],\n",
       "       [9.52307773e-01, 3.27777498e-01],\n",
       "       [8.91709802e-01, 6.64068187e-01],\n",
       "       [5.05404256e-01, 4.13108576e-01],\n",
       "       [4.16431537e-01, 8.46612277e-01],\n",
       "       [6.08454093e-01, 1.87770998e-01],\n",
       "       [4.17651375e-01, 6.56061774e-01],\n",
       "       [8.38181398e-01, 3.82322228e-02],\n",
       "       [5.58523651e-01, 4.43000386e-01],\n",
       "       [2.72661063e-01, 4.48784300e-01],\n",
       "       [7.20437096e-01, 3.37731223e-01],\n",
       "       [3.03471947e-02, 3.26253133e-01],\n",
       "       [4.07266338e-01, 7.78099933e-01],\n",
       "       [7.56259025e-01, 1.81066797e-01],\n",
       "       [6.16758979e-01, 7.89150259e-01],\n",
       "       [1.42385573e-01, 3.12644665e-01],\n",
       "       [7.88552752e-01, 3.61409288e-01],\n",
       "       [8.91071638e-01, 3.22485880e-01],\n",
       "       [5.97440324e-02, 6.39533801e-01],\n",
       "       [2.24857921e-01, 3.07408776e-01],\n",
       "       [4.77410704e-03, 6.87623675e-01],\n",
       "       [2.08306389e-01, 8.58620658e-01],\n",
       "       [1.89307302e-01, 2.54447806e-01],\n",
       "       [7.53085839e-01, 8.22409037e-01],\n",
       "       [6.74785505e-01, 7.02725460e-02],\n",
       "       [8.72695519e-01, 8.19818865e-01],\n",
       "       [1.86949251e-01, 6.43112031e-01],\n",
       "       [7.27672398e-01, 4.01257236e-01],\n",
       "       [1.98262387e-01, 7.94480569e-01],\n",
       "       [4.58863327e-01, 8.50084966e-01],\n",
       "       [4.92449376e-02, 1.78637009e-02],\n",
       "       [1.74238138e-01, 8.63687910e-01],\n",
       "       [9.09949653e-01, 8.42925864e-01],\n",
       "       [5.51985785e-01, 8.62418275e-01],\n",
       "       [2.41204080e-01, 8.52834521e-01],\n",
       "       [2.39018720e-01, 7.31158622e-01],\n",
       "       [7.19060802e-01, 5.28988628e-01],\n",
       "       [5.48855124e-01, 8.96364430e-01],\n",
       "       [4.09694333e-01, 4.16553014e-01],\n",
       "       [7.52659312e-01, 1.43039012e-02],\n",
       "       [3.44975662e-01, 8.71410295e-04],\n",
       "       [2.48144442e-01, 6.61158129e-01],\n",
       "       [8.03502968e-01, 6.97446561e-01],\n",
       "       [8.08025616e-01, 2.60971410e-01],\n",
       "       [2.60165871e-01, 4.51729719e-01],\n",
       "       [5.43115716e-01, 2.11442831e-01],\n",
       "       [5.49167216e-01, 9.30691790e-01],\n",
       "       [6.11145981e-01, 8.02892955e-01],\n",
       "       [4.63997353e-01, 6.26564660e-01],\n",
       "       [0.00000000e+00, 0.00000000e+00]])"
      ]
     },
     "execution_count": 3,
     "metadata": {},
     "output_type": "execute_result"
    }
   ],
   "source": [
    "# For each state, two actions are possible.\n",
    "# First q values note down-movement.\n",
    "q_val = np.random.random((n_states + 2, 2))\n",
    "q_val[0] = np.array([0, 0])\n",
    "q_val[-1] = np.array([0, 0])\n",
    "\n",
    "q_val"
   ]
  },
  {
   "cell_type": "code",
   "execution_count": 4,
   "metadata": {},
   "outputs": [],
   "source": [
    "def choose_action(q, state, eps=0.1):\n",
    "    \"\"\"Return -1 for down, +1 for up.\"\"\"\n",
    "    action = None\n",
    "   \n",
    "    if np.random.random() < 1-eps:\n",
    "        if q[state][0] > q[state][1]:\n",
    "            action = -1\n",
    "        else:\n",
    "            action = 1\n",
    "    else:\n",
    "        action = np.random.choice([1, -1])\n",
    "    return action"
   ]
  },
  {
   "cell_type": "code",
   "execution_count": 5,
   "metadata": {},
   "outputs": [],
   "source": [
    "# SARSA algorithm.\n",
    "episodes = 500\n",
    "eta = 0.1\n",
    "gamma = 1\n",
    "trials_taken = []\n",
    "\n",
    "for _ in range(episodes):\n",
    "    state = np.random.randint(n_states)\n",
    "#     state = 0\n",
    "#     state = 50\n",
    "    action = choose_action(q_val, state)\n",
    "    i = 0\n",
    "#     reward = 0\n",
    "    while(state + action >= 0 and state + action < q_val.shape[0] -1):\n",
    "        \n",
    "        new_state = state + action\n",
    "        reward = rewards[new_state] #rewards[state]\n",
    "\n",
    "        new_action = choose_action(q_val, new_state)\n",
    "\n",
    "        # Q-val-update\n",
    "        action_idx = (action+1)//2\n",
    "        new_action_idx = (new_action+1)//2\n",
    "        \n",
    "#         print(f\"{state} {action_idx}\")\n",
    "#         print(\"old:\", q_val[state][action_idx])\n",
    "        q_val[state][action_idx] = q_val[state][action_idx] + eta * (reward + gamma * q_val[new_state][new_action_idx] - q_val[state][action_idx])\n",
    "#         print(\"new: \", q_val[state][action_idx])\n",
    "        \n",
    "        state = new_state\n",
    "        action = new_action\n",
    "        \n",
    "        i+=1\n",
    "    \n",
    "#     print(reward)\n",
    "#     print(\"state\", state)\n",
    "#     print(\"Top\", q_val[1])\n",
    "#     print(\"Bot\", q_val[-2])\n",
    "    \n",
    "#     print(\"STOPPED\", state + action)\n",
    "\n",
    "#     q_val[0][0] = 0\n",
    "#     q_val[0][1] = 0\n",
    "#     q_val[-1][0] = 0\n",
    "#     q_val[-1][1] = 0\n",
    "    \n",
    "    trials_taken.append(i)"
   ]
  },
  {
   "cell_type": "code",
   "execution_count": 6,
   "metadata": {},
   "outputs": [
    {
     "data": {
      "text/plain": [
       "array([[ 0.00000000e+00,  3.62149043e+05],\n",
       "       [ 3.22825964e+05,  3.62263066e+05],\n",
       "       [ 3.62441712e+05,  3.57977479e+05],\n",
       "       [ 3.60006577e+05,  3.55039549e+05],\n",
       "       [ 3.57512907e+05,  3.43386581e+05],\n",
       "       [ 3.50488534e+05,  2.78409602e+05],\n",
       "       [ 3.27760047e+05,  1.31619202e+05],\n",
       "       [ 3.12075852e+05,  6.58470492e+04],\n",
       "       [ 2.75128065e+05,  1.02652515e+05],\n",
       "       [ 2.71205424e+05,  7.64478921e+04],\n",
       "       [ 2.59904653e+05,  5.31385728e+04],\n",
       "       [ 2.31334443e+05,  6.98214583e+04],\n",
       "       [ 2.06460984e+05,  3.02075723e+04],\n",
       "       [ 1.85363000e+05,  3.64237411e+04],\n",
       "       [ 1.74768752e+05,  8.20539038e+03],\n",
       "       [ 1.44729152e+05, -5.34327132e+01],\n",
       "       [ 1.14038227e+05,  4.03088072e+03],\n",
       "       [ 7.62138286e+04,  8.88726349e+02],\n",
       "       [ 3.96495518e+04,  1.01683243e+03],\n",
       "       [ 1.97266266e+04,  2.61669688e+02],\n",
       "       [ 8.60873722e+03, -2.89299595e+00],\n",
       "       [ 3.10321810e+03, -1.10250715e+02],\n",
       "       [ 6.73873856e+02, -1.17565601e+02],\n",
       "       [-3.42022681e+01, -1.25279107e+02],\n",
       "       [-1.17843246e+02, -1.27895509e+02],\n",
       "       [-1.32217127e+02, -1.32877949e+02],\n",
       "       [-1.35707315e+02, -1.36111308e+02],\n",
       "       [-1.36726819e+02, -1.38128829e+02],\n",
       "       [-1.37219278e+02, -1.37963289e+02],\n",
       "       [-1.35412542e+02, -1.35437030e+02],\n",
       "       [-1.31014114e+02, -1.30584901e+02],\n",
       "       [-1.25267545e+02, -1.13753644e+02],\n",
       "       [-1.19917466e+02, -6.71089883e+01],\n",
       "       [-1.12724005e+02,  8.58474161e+00],\n",
       "       [-1.01774905e+02,  1.30388183e+02],\n",
       "       [-9.29395133e+01,  2.95955078e+02],\n",
       "       [-8.24938183e+01,  5.17281111e+02],\n",
       "       [-4.43039494e+01,  7.50057311e+02],\n",
       "       [ 2.28386923e+01,  9.34776704e+02],\n",
       "       [ 4.98036423e+01,  9.89455137e+02],\n",
       "       [ 3.94272382e+01,  1.15911678e+03],\n",
       "       [ 4.66922503e+02,  1.30910176e+03],\n",
       "       [ 4.06089305e+01,  1.41051340e+03],\n",
       "       [ 5.67537595e+02,  1.55488898e+03],\n",
       "       [ 4.25070255e+02,  1.64559377e+03],\n",
       "       [ 7.75333809e+02,  1.84019227e+03],\n",
       "       [ 6.13999918e+02,  1.88904592e+03],\n",
       "       [ 1.16569627e+03,  1.86909414e+03],\n",
       "       [ 1.79873187e+03,  1.87560933e+03],\n",
       "       [ 1.83034564e+03,  1.83136304e+03],\n",
       "       [ 2.04190646e+03,  6.26564660e-01],\n",
       "       [ 0.00000000e+00,  0.00000000e+00]])"
      ]
     },
     "execution_count": 6,
     "metadata": {},
     "output_type": "execute_result"
    }
   ],
   "source": [
    "q_val"
   ]
  },
  {
   "cell_type": "code",
   "execution_count": 7,
   "metadata": {},
   "outputs": [
    {
     "data": {
      "text/plain": [
       "<matplotlib.colorbar.Colorbar at 0x7f2ce024c400>"
      ]
     },
     "execution_count": 7,
     "metadata": {},
     "output_type": "execute_result"
    },
    {
     "data": {
      "image/png": "[encoded data removed]",
      "text/plain": [
       "<Figure size 360x1080 with 2 Axes>"
      ]
     },
     "metadata": {
      "needs_background": "light"
     },
     "output_type": "display_data"
    }
   ],
   "source": [
    "plt.figure(figsize = (5, 15))\n",
    "plt.imshow(q_val, vmin = -10, vmax = 5)\n",
    "plt.colorbar()"
   ]
  },
  {
   "cell_type": "code",
   "execution_count": 8,
   "metadata": {},
   "outputs": [
    {
     "data": {
      "text/plain": [
       "[<matplotlib.lines.Line2D at 0x7f2cdfd687b8>]"
      ]
     },
     "execution_count": 8,
     "metadata": {},
     "output_type": "execute_result"
    },
    {
     "data": {
      "image/png": "[encoded data removed]",
      "text/plain": [
       "<Figure size 432x288 with 1 Axes>"
      ]
     },
     "metadata": {
      "needs_background": "light"
     },
     "output_type": "display_data"
    }
   ],
   "source": [
    "plt.plot(trials_taken)"
   ]
  },
  {
   "cell_type": "code",
   "execution_count": null,
   "metadata": {},
   "outputs": [],
   "source": []
  }
 ],
 "metadata": {
  "kernelspec": {
   "display_name": "Python 3",
   "language": "python",
   "name": "python3"
  },
  "language_info": {
   "codemirror_mode": {
    "name": "ipython",
    "version": 3
   },
   "file_extension": ".py",
   "mimetype": "text/x-python",
   "name": "python",
   "nbconvert_exporter": "python",
   "pygments_lexer": "ipython3",
   "version": "3.6.9"
  }
 },
 "nbformat": 4,
 "nbformat_minor": 2
}
